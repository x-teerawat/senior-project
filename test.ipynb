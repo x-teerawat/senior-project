{
 "cells": [
  {
   "cell_type": "markdown",
   "metadata": {},
   "source": [
    "# Import"
   ]
  },
  {
   "cell_type": "code",
   "execution_count": 13,
   "metadata": {},
   "outputs": [],
   "source": [
    "import pandas as pd\n",
    "import numpy as np\n",
    "import random"
   ]
  },
  {
   "cell_type": "code",
   "execution_count": 112,
   "metadata": {},
   "outputs": [],
   "source": [
    "### Get points\n",
    "points = [] \n",
    "def read_file(file):\n",
    "    with open(file) as f:\n",
    "        line = f.readlines()\n",
    "        list_data = []\n",
    "        for index, data in enumerate(line):\n",
    "            list_data.append(data.strip())\n",
    "\n",
    "    for i in range(len(list_data)):\n",
    "        points.append((int(list_data[i].split(' ')[1]), int(list_data[i].split(' ')[2])))\n",
    "\n",
    "read_file('att48.txt')\n",
    "\n",
    "### Get x & y\n",
    "x = []\n",
    "y = []\n",
    "for i in range(len(points)):\n",
    "    x.append(points[i][0])\n",
    "    y.append(points[i][1])\n",
    "\n",
    "### Get distance\n",
    "def distance(x_i, x_j, y_i, y_j):\n",
    "    return ((x_i - x_j)**2 + (y_i - y_j)**2)**(1/2)\n",
    "\n",
    "cost_matrix = []\n",
    "for i in range(len(points)):\n",
    "    row = []\n",
    "    for j in range(len(points)):\n",
    "        row.append(distance(x[i], x[j], y[i], y[j]))\n",
    "    cost_matrix.append(row)"
   ]
  },
  {
   "cell_type": "code",
   "execution_count": 103,
   "metadata": {},
   "outputs": [],
   "source": [
    "\n",
    "class Get:\n",
    "    def __init__(self, points, x, y, cost_matrix):\n",
    "        self.points = points\n",
    "        self.count_points = len(points)\n",
    "        self.x = x\n",
    "        self.y = y\n",
    "        self.matrix = cost_matrix\n",
    "        self.n = np.array([[0 if i == j else 1 / self.matrix[i][j] for i in range(self.count_points)] for j in range(self.count_points)]) # 1/distance\n",
    "        self.pheromone = np.array([[0 if i==j else 1 for i in range(self.count_points)] for j in range(self.count_points)], dtype=float)\n",
    "\n",
    "class ACO:\n",
    "    def __init__(self, gens, ants, alpha, beta, rho):\n",
    "        self.gens = gens\n",
    "        self.ants = ants\n",
    "        self.alpha = alpha\n",
    "        self.beta = beta\n",
    "        self.rho = rho # rho (p) : Pheromone evaporation\n",
    "\n",
    "    def probability(self, pheromone, n, count_points, selected):\n",
    "        ### Denominator\n",
    "        tsa = [[pheromone[i][j]**self.alpha for i in range(count_points)] for j in range(count_points)] # t square alpha\n",
    "        nsb = [[n[i][j]**self.beta for i in range(count_points)] for j in range(count_points)] # n square beta\n",
    "        txn = [[tsa[i][j] * nsb[i][j] for i in range(count_points)] for j in range(count_points)] # tsa * nsb\n",
    "        denominator = sum(sum(np.array(txn))) # sum(np.array(txn) : Sum of fist row, # sum(sum(np.array(txn)) : Sum of all rows\n",
    "\n",
    "        for path in range(len(self.allowed)):\n",
    "            print(f'Path: {path+1}')\n",
    "            prob = {}\n",
    "            for i in self.allowed:\n",
    "                prob.update({i: (pheromone[selected][i]**self.alpha) * (n[selected][i]**self.beta) / denominator})\n",
    "            max_prob = sorted(prob.values())[-1]\n",
    "            selected = list(prob.keys())[list(prob.values()).index(max_prob)]\n",
    "            self.paths.append(selected) # Add selected path\n",
    "            print(f'Selected : {selected}')\n",
    "            print(f'Path in prob: {self.paths}')\n",
    "\n",
    "            ### Paths that has been walked\n",
    "            walked = 0\n",
    "            for i in self.new_matrix[self.paths[-1]]:\n",
    "                if i == 0:\n",
    "                    walked += 1\n",
    "            if walked != get.count_points:\n",
    "                best_path = np.where(cost_matrix[paths[-1]] == sorted(cost_matrix[paths[-1]])[walked])[0][0]\n",
    "                distance_ij = sorted(cost_matrix[paths[-1]])[walked]\n",
    "                # print(f'Best paths : {best_path} ,Distance : {distance_ij}')\n",
    "\n",
    "            ### Remove the path that has been walked\n",
    "            self.allowed.remove(selected)\n",
    "            for i in range(get.count_points):\n",
    "                self.new_matrix[selected][i] = 0.0\n",
    "                self.new_matrix[i][selected] = 0.0\n",
    "            \n",
    "\n",
    "    # def aco(self, get: Get):\n",
    "    #     ### Generation\n",
    "    #     for gen in range(self.gens):\n",
    "    #         print(f'Generation: {gen+1}')\n",
    "            \n",
    "    #         ### Ant\n",
    "    #         self.new_matrix = get.matrix.copy()\n",
    "    #         self.allowed = [i for i in np.arange(get.count_points)]\n",
    "    #         self.paths = []\n",
    "            \n",
    "    #         random_start = list(range(get.count_points))\n",
    "    #         for ant in range(self.ants):\n",
    "    #             print(f'Ant: {ant+1}')\n",
    "\n",
    "    #             ### Start\n",
    "    #             start = random_start.pop(random.randrange(len(random_start))) # Random between 0 to 47\n",
    "    #             selected = start\n",
    "    #             self.paths.append(selected)\n",
    "    #             print(self.new_matrix)\n",
    "    #             # print(np.where(self.new_matrix[self.paths[-1]] == sorted(self.new_matrix[self.paths[-1]])[1]))\n",
    "    #             # best_path = np.where(self.new_matrix[self.paths[-1]] == sorted(self.new_matrix[self.paths[-1]])[1])[0][0] # Return array, # sorted(self.new_matrix[self.paths[-1]])[1] : ค่าที่ใกล้สุด\n",
    "    #             # distance_ij = sorted(self.new_matrix[self.paths[-1]])[1] # index[0] : 0\n",
    "    #             # print(f'Best paths : {best_path} ,Distance : {distance_ij}')\n",
    "\n",
    "    #             ### Remove the path that has been walked\n",
    "    #             self.allowed.remove(selected)\n",
    "    #             for i in range(get.count_points):\n",
    "    #                 self.new_matrix[selected][i] = 0.0\n",
    "    #                 self.new_matrix[i][selected] = 0.0\n",
    "                \n",
    "    #             print(f'Start: {selected}')\n",
    "    #             print(f'Paht: {self.paths}')\n",
    "\n",
    "    #             ### Probability\n",
    "    #             self.probability(get.pheromone, get.n, get.count_points, self.paths[-1])"
   ]
  },
  {
   "cell_type": "code",
   "execution_count": 117,
   "metadata": {},
   "outputs": [],
   "source": [
    "# get = Get(points, x, y, cost_matrix)\n",
    "# get.n\n",
    "# aco = ACO(1, 1, 3, 3, .02)\n",
    "# aco.aco(get)"
   ]
  },
  {
   "cell_type": "code",
   "execution_count": 130,
   "metadata": {},
   "outputs": [
    {
     "data": {
      "text/plain": [
       "<__main__.Get at 0x7fa670e99c10>"
      ]
     },
     "execution_count": 130,
     "metadata": {},
     "output_type": "execute_result"
    }
   ],
   "source": [
    "get = Get(points, x, y, cost_matrix)\n",
    "get"
   ]
  },
  {
   "cell_type": "code",
   "execution_count": 145,
   "metadata": {},
   "outputs": [],
   "source": [
    "class test1:\n",
    "    def __init__(self):\n",
    "        self.t1 = []\n",
    "\n",
    "class test2:\n",
    "    def __init__(self):\n",
    "        self.t2 = []\n",
    "    \n",
    "    def add(self):\n",
    "        self.t1.append(1)"
   ]
  },
  {
   "cell_type": "code",
   "execution_count": 146,
   "metadata": {},
   "outputs": [
    {
     "ename": "AttributeError",
     "evalue": "'test2' object has no attribute 't1'",
     "output_type": "error",
     "traceback": [
      "\u001b[0;31m---------------------------------------------------------------------------\u001b[0m",
      "\u001b[0;31mAttributeError\u001b[0m                            Traceback (most recent call last)",
      "\u001b[0;32m<ipython-input-146-551096c0837d>\u001b[0m in \u001b[0;36m<module>\u001b[0;34m\u001b[0m\n\u001b[1;32m      1\u001b[0m \u001b[0mct2\u001b[0m \u001b[0;34m=\u001b[0m \u001b[0mtest2\u001b[0m\u001b[0;34m(\u001b[0m\u001b[0;34m)\u001b[0m\u001b[0;34m\u001b[0m\u001b[0;34m\u001b[0m\u001b[0m\n\u001b[0;32m----> 2\u001b[0;31m \u001b[0mct2\u001b[0m\u001b[0;34m.\u001b[0m\u001b[0madd\u001b[0m\u001b[0;34m(\u001b[0m\u001b[0;34m)\u001b[0m\u001b[0;34m\u001b[0m\u001b[0;34m\u001b[0m\u001b[0m\n\u001b[0m",
      "\u001b[0;32m<ipython-input-145-f62404f74302>\u001b[0m in \u001b[0;36madd\u001b[0;34m(self)\u001b[0m\n\u001b[1;32m      8\u001b[0m \u001b[0;34m\u001b[0m\u001b[0m\n\u001b[1;32m      9\u001b[0m     \u001b[0;32mdef\u001b[0m \u001b[0madd\u001b[0m\u001b[0;34m(\u001b[0m\u001b[0mself\u001b[0m\u001b[0;34m)\u001b[0m\u001b[0;34m:\u001b[0m\u001b[0;34m\u001b[0m\u001b[0;34m\u001b[0m\u001b[0m\n\u001b[0;32m---> 10\u001b[0;31m         \u001b[0mself\u001b[0m\u001b[0;34m.\u001b[0m\u001b[0mt1\u001b[0m\u001b[0;34m.\u001b[0m\u001b[0mappend\u001b[0m\u001b[0;34m(\u001b[0m\u001b[0;36m1\u001b[0m\u001b[0;34m)\u001b[0m\u001b[0;34m\u001b[0m\u001b[0;34m\u001b[0m\u001b[0m\n\u001b[0m",
      "\u001b[0;31mAttributeError\u001b[0m: 'test2' object has no attribute 't1'"
     ]
    }
   ],
   "source": [
    "ct2 = test2()\n",
    "ct2.add()"
   ]
  },
  {
   "cell_type": "code",
   "execution_count": 144,
   "metadata": {},
   "outputs": [
    {
     "data": {
      "text/plain": [
       "[1]"
      ]
     },
     "execution_count": 144,
     "metadata": {},
     "output_type": "execute_result"
    }
   ],
   "source": [
    "ct2.t2"
   ]
  },
  {
   "cell_type": "code",
   "execution_count": null,
   "metadata": {},
   "outputs": [],
   "source": []
  }
 ],
 "metadata": {
  "interpreter": {
   "hash": "9f55b509f0ebe707dcd0b80f51655d60d400a6721d26d899670ffc0f0c842f84"
  },
  "kernelspec": {
   "display_name": "Python 3.8.8 64-bit ('base': conda)",
   "language": "python",
   "name": "python3"
  },
  "language_info": {
   "codemirror_mode": {
    "name": "ipython",
    "version": 3
   },
   "file_extension": ".py",
   "mimetype": "text/x-python",
   "name": "python",
   "nbconvert_exporter": "python",
   "pygments_lexer": "ipython3",
   "version": "3.8.8"
  },
  "orig_nbformat": 4
 },
 "nbformat": 4,
 "nbformat_minor": 2
}
